{
 "cells": [
  {
   "cell_type": "markdown",
   "id": "ff51b32b",
   "metadata": {},
   "source": [
    "##  <center>Products Treatment</center>"
   ]
  },
  {
   "cell_type": "markdown",
   "id": "d5a0b727",
   "metadata": {},
   "source": [
    "The idea here is to combine all the information about products description of sales_data.csv and products.csv in order to get categorized information about products."
   ]
  },
  {
   "cell_type": "code",
   "execution_count": 1,
   "id": "205ffb29",
   "metadata": {},
   "outputs": [],
   "source": [
    "# Import libraries and modules\n",
    "import pandas as pd\n",
    "import numpy as np"
   ]
  },
  {
   "cell_type": "code",
   "execution_count": 2,
   "id": "a45f7bfe",
   "metadata": {},
   "outputs": [],
   "source": [
    "# Import information about products \n",
    "products = pd.read_csv('./data/csv_files/products.csv')"
   ]
  },
  {
   "cell_type": "code",
   "execution_count": 18,
   "id": "bd4ec5a4",
   "metadata": {},
   "outputs": [
    {
     "data": {
      "text/html": [
       "<div>\n",
       "<style scoped>\n",
       "    .dataframe tbody tr th:only-of-type {\n",
       "        vertical-align: middle;\n",
       "    }\n",
       "\n",
       "    .dataframe tbody tr th {\n",
       "        vertical-align: top;\n",
       "    }\n",
       "\n",
       "    .dataframe thead th {\n",
       "        text-align: right;\n",
       "    }\n",
       "</style>\n",
       "<table border=\"1\" class=\"dataframe\">\n",
       "  <thead>\n",
       "    <tr style=\"text-align: right;\">\n",
       "      <th></th>\n",
       "      <th>Descrip</th>\n",
       "      <th>Product Type</th>\n",
       "      <th>Commission</th>\n",
       "      <th>Product Family</th>\n",
       "    </tr>\n",
       "  </thead>\n",
       "  <tbody>\n",
       "    <tr>\n",
       "      <th>0</th>\n",
       "      <td>BLANK CL FF OL 0,75 NBR 6658</td>\n",
       "      <td>BKFF</td>\n",
       "      <td>2%</td>\n",
       "      <td>BLANK</td>\n",
       "    </tr>\n",
       "    <tr>\n",
       "      <th>1</th>\n",
       "      <td>BLANK CL FF OL 0,90 NBR 6658</td>\n",
       "      <td>BKFF</td>\n",
       "      <td>2%</td>\n",
       "      <td>BLANK</td>\n",
       "    </tr>\n",
       "    <tr>\n",
       "      <th>2</th>\n",
       "      <td>BLANK CL FF OL 1,20 NBR 6658</td>\n",
       "      <td>BKFF</td>\n",
       "      <td>2%</td>\n",
       "      <td>BLANK</td>\n",
       "    </tr>\n",
       "    <tr>\n",
       "      <th>3</th>\n",
       "      <td>BLANK CL FF OL 1,50 NBR 6658</td>\n",
       "      <td>BKFF</td>\n",
       "      <td>2%</td>\n",
       "      <td>BLANK</td>\n",
       "    </tr>\n",
       "    <tr>\n",
       "      <th>4</th>\n",
       "      <td>BLANK CL FF OL 1,90 NBR 6658</td>\n",
       "      <td>BKFF</td>\n",
       "      <td>2%</td>\n",
       "      <td>BLANK</td>\n",
       "    </tr>\n",
       "    <tr>\n",
       "      <th>...</th>\n",
       "      <td>...</td>\n",
       "      <td>...</td>\n",
       "      <td>...</td>\n",
       "      <td>...</td>\n",
       "    </tr>\n",
       "    <tr>\n",
       "      <th>2785</th>\n",
       "      <td>TR REL 5,50 NBR5007 G2L40 BbOL</td>\n",
       "      <td>TIRA REL</td>\n",
       "      <td>2%</td>\n",
       "      <td>RELAMINADO</td>\n",
       "    </tr>\n",
       "    <tr>\n",
       "      <th>2786</th>\n",
       "      <td>TR REL 5,50 NBR5007 G3L40 BbOL</td>\n",
       "      <td>TIRA REL</td>\n",
       "      <td>2%</td>\n",
       "      <td>RELAMINADO</td>\n",
       "    </tr>\n",
       "    <tr>\n",
       "      <th>2787</th>\n",
       "      <td>TR REL 5,60 NBR5007 G2L40 BbOL</td>\n",
       "      <td>TIRA REL</td>\n",
       "      <td>2%</td>\n",
       "      <td>RELAMINADO</td>\n",
       "    </tr>\n",
       "    <tr>\n",
       "      <th>2788</th>\n",
       "      <td>TR REL 5,60 NBR5007 G2L40 BbOL</td>\n",
       "      <td>TIRA REL</td>\n",
       "      <td>2%</td>\n",
       "      <td>RELAMINADO</td>\n",
       "    </tr>\n",
       "    <tr>\n",
       "      <th>2789</th>\n",
       "      <td>TUBO FQ QUADRADO 1,50 SAE1006</td>\n",
       "      <td>TUBO QUAD</td>\n",
       "      <td>2%</td>\n",
       "      <td>TUBO</td>\n",
       "    </tr>\n",
       "  </tbody>\n",
       "</table>\n",
       "<p>2790 rows × 4 columns</p>\n",
       "</div>"
      ],
      "text/plain": [
       "                             Descrip Product Type Commission Product Family\n",
       "0       BLANK CL FF OL 0,75 NBR 6658         BKFF         2%          BLANK\n",
       "1       BLANK CL FF OL 0,90 NBR 6658         BKFF         2%          BLANK\n",
       "2       BLANK CL FF OL 1,20 NBR 6658         BKFF         2%          BLANK\n",
       "3       BLANK CL FF OL 1,50 NBR 6658         BKFF         2%          BLANK\n",
       "4       BLANK CL FF OL 1,90 NBR 6658         BKFF         2%          BLANK\n",
       "...                              ...          ...        ...            ...\n",
       "2785  TR REL 5,50 NBR5007 G2L40 BbOL     TIRA REL         2%     RELAMINADO\n",
       "2786  TR REL 5,50 NBR5007 G3L40 BbOL     TIRA REL         2%     RELAMINADO\n",
       "2787  TR REL 5,60 NBR5007 G2L40 BbOL     TIRA REL         2%     RELAMINADO\n",
       "2788  TR REL 5,60 NBR5007 G2L40 BbOL     TIRA REL         2%     RELAMINADO\n",
       "2789   TUBO FQ QUADRADO 1,50 SAE1006    TUBO QUAD         2%           TUBO\n",
       "\n",
       "[2790 rows x 4 columns]"
      ]
     },
     "execution_count": 18,
     "metadata": {},
     "output_type": "execute_result"
    }
   ],
   "source": [
    "products"
   ]
  },
  {
   "cell_type": "code",
   "execution_count": 17,
   "id": "49cdb31b",
   "metadata": {},
   "outputs": [],
   "source": [
    "products.rename(columns={'Família Produto': 'Product Family', 'Descrição': 'Descrip', 'Tipo de Produto': 'Product Type', 'Comission': 'Commission'}, inplace=True)"
   ]
  },
  {
   "cell_type": "code",
   "execution_count": 19,
   "id": "15ecc04c",
   "metadata": {},
   "outputs": [
    {
     "data": {
      "text/plain": [
       "0         BLANK CL FF OL 0,75 NBR 6658\n",
       "1         BLANK CL FF OL 0,90 NBR 6658\n",
       "2         BLANK CL FF OL 1,20 NBR 6658\n",
       "3         BLANK CL FF OL 1,50 NBR 6658\n",
       "4         BLANK CL FF OL 1,90 NBR 6658\n",
       "                     ...              \n",
       "2785    TR REL 5,50 NBR5007 G2L40 BbOL\n",
       "2786    TR REL 5,50 NBR5007 G3L40 BbOL\n",
       "2787    TR REL 5,60 NBR5007 G2L40 BbOL\n",
       "2788    TR REL 5,60 NBR5007 G2L40 BbOL\n",
       "2789     TUBO FQ QUADRADO 1,50 SAE1006\n",
       "Name: Descrip, Length: 2790, dtype: object"
      ]
     },
     "execution_count": 19,
     "metadata": {},
     "output_type": "execute_result"
    }
   ],
   "source": [
    "products['Descrip']"
   ]
  },
  {
   "cell_type": "code",
   "execution_count": 7,
   "id": "cdf80e8e",
   "metadata": {},
   "outputs": [
    {
     "data": {
      "text/html": [
       "<div>\n",
       "<style scoped>\n",
       "    .dataframe tbody tr th:only-of-type {\n",
       "        vertical-align: middle;\n",
       "    }\n",
       "\n",
       "    .dataframe tbody tr th {\n",
       "        vertical-align: top;\n",
       "    }\n",
       "\n",
       "    .dataframe thead th {\n",
       "        text-align: right;\n",
       "    }\n",
       "</style>\n",
       "<table border=\"1\" class=\"dataframe\">\n",
       "  <thead>\n",
       "    <tr style=\"text-align: right;\">\n",
       "      <th></th>\n",
       "      <th>Descrição</th>\n",
       "      <th>Tipo de Produto</th>\n",
       "      <th>Comissão</th>\n",
       "      <th>Família Produto</th>\n",
       "    </tr>\n",
       "  </thead>\n",
       "  <tbody>\n",
       "    <tr>\n",
       "      <th>0</th>\n",
       "      <td>BLANK CL FF OL 0,75 NBR 6658</td>\n",
       "      <td>BKFF</td>\n",
       "      <td>2%</td>\n",
       "      <td>BLANK</td>\n",
       "    </tr>\n",
       "    <tr>\n",
       "      <th>1</th>\n",
       "      <td>BLANK CL FF OL 0,90 NBR 6658</td>\n",
       "      <td>BKFF</td>\n",
       "      <td>2%</td>\n",
       "      <td>BLANK</td>\n",
       "    </tr>\n",
       "    <tr>\n",
       "      <th>2</th>\n",
       "      <td>BLANK CL FF OL 1,20 NBR 6658</td>\n",
       "      <td>BKFF</td>\n",
       "      <td>2%</td>\n",
       "      <td>BLANK</td>\n",
       "    </tr>\n",
       "    <tr>\n",
       "      <th>3</th>\n",
       "      <td>BLANK CL FF OL 1,50 NBR 6658</td>\n",
       "      <td>BKFF</td>\n",
       "      <td>2%</td>\n",
       "      <td>BLANK</td>\n",
       "    </tr>\n",
       "    <tr>\n",
       "      <th>4</th>\n",
       "      <td>BLANK CL FF OL 1,90 NBR 6658</td>\n",
       "      <td>BKFF</td>\n",
       "      <td>2%</td>\n",
       "      <td>BLANK</td>\n",
       "    </tr>\n",
       "    <tr>\n",
       "      <th>...</th>\n",
       "      <td>...</td>\n",
       "      <td>...</td>\n",
       "      <td>...</td>\n",
       "      <td>...</td>\n",
       "    </tr>\n",
       "    <tr>\n",
       "      <th>2785</th>\n",
       "      <td>TR REL 5,50 NBR5007 G2L40 BbOL</td>\n",
       "      <td>TIRA REL</td>\n",
       "      <td>2%</td>\n",
       "      <td>RELAMINADO</td>\n",
       "    </tr>\n",
       "    <tr>\n",
       "      <th>2786</th>\n",
       "      <td>TR REL 5,50 NBR5007 G3L40 BbOL</td>\n",
       "      <td>TIRA REL</td>\n",
       "      <td>2%</td>\n",
       "      <td>RELAMINADO</td>\n",
       "    </tr>\n",
       "    <tr>\n",
       "      <th>2787</th>\n",
       "      <td>TR REL 5,60 NBR5007 G2L40 BbOL</td>\n",
       "      <td>TIRA REL</td>\n",
       "      <td>2%</td>\n",
       "      <td>RELAMINADO</td>\n",
       "    </tr>\n",
       "    <tr>\n",
       "      <th>2788</th>\n",
       "      <td>TR REL 5,60 NBR5007 G2L40 BbOL</td>\n",
       "      <td>TIRA REL</td>\n",
       "      <td>2%</td>\n",
       "      <td>RELAMINADO</td>\n",
       "    </tr>\n",
       "    <tr>\n",
       "      <th>2789</th>\n",
       "      <td>TUBO FQ QUADRADO 1,50 SAE1006</td>\n",
       "      <td>TUBO QUAD</td>\n",
       "      <td>2%</td>\n",
       "      <td>TUBO</td>\n",
       "    </tr>\n",
       "  </tbody>\n",
       "</table>\n",
       "<p>2790 rows × 4 columns</p>\n",
       "</div>"
      ],
      "text/plain": [
       "                           Descrição Tipo de Produto Comissão Família Produto\n",
       "0       BLANK CL FF OL 0,75 NBR 6658            BKFF       2%           BLANK\n",
       "1       BLANK CL FF OL 0,90 NBR 6658            BKFF       2%           BLANK\n",
       "2       BLANK CL FF OL 1,20 NBR 6658            BKFF       2%           BLANK\n",
       "3       BLANK CL FF OL 1,50 NBR 6658            BKFF       2%           BLANK\n",
       "4       BLANK CL FF OL 1,90 NBR 6658            BKFF       2%           BLANK\n",
       "...                              ...             ...      ...             ...\n",
       "2785  TR REL 5,50 NBR5007 G2L40 BbOL        TIRA REL       2%      RELAMINADO\n",
       "2786  TR REL 5,50 NBR5007 G3L40 BbOL        TIRA REL       2%      RELAMINADO\n",
       "2787  TR REL 5,60 NBR5007 G2L40 BbOL        TIRA REL       2%      RELAMINADO\n",
       "2788  TR REL 5,60 NBR5007 G2L40 BbOL        TIRA REL       2%      RELAMINADO\n",
       "2789   TUBO FQ QUADRADO 1,50 SAE1006       TUBO QUAD       2%            TUBO\n",
       "\n",
       "[2790 rows x 4 columns]"
      ]
     },
     "execution_count": 7,
     "metadata": {},
     "output_type": "execute_result"
    }
   ],
   "source": [
    "products"
   ]
  },
  {
   "cell_type": "code",
   "execution_count": 20,
   "id": "f740b1d0",
   "metadata": {},
   "outputs": [
    {
     "data": {
      "text/plain": [
       "pandas.core.series.Series"
      ]
     },
     "execution_count": 20,
     "metadata": {},
     "output_type": "execute_result"
    }
   ],
   "source": [
    "type(products['Descrip'])"
   ]
  },
  {
   "cell_type": "code",
   "execution_count": 22,
   "id": "b9605ced",
   "metadata": {},
   "outputs": [
    {
     "data": {
      "text/plain": [
       "'BLANK CL FF OL 0,75 NBR 6658'"
      ]
     },
     "execution_count": 22,
     "metadata": {},
     "output_type": "execute_result"
    }
   ],
   "source": [
    "# We can see there's a space in the beginning of the string.\n",
    "# This will be a problem for merging sales_data and products.\n",
    "products['Descrip'][0]"
   ]
  },
  {
   "cell_type": "code",
   "execution_count": 24,
   "id": "87dcd96e-a9a1-45c6-99a0-0591a910e75b",
   "metadata": {},
   "outputs": [],
   "source": [
    "sales_data = pd.read_csv('./data/csv_files/sales_data.csv')"
   ]
  },
  {
   "cell_type": "code",
   "execution_count": 25,
   "id": "a101466f",
   "metadata": {},
   "outputs": [
    {
     "data": {
      "text/plain": [
       "'CHAPA GR LTQ DEC 6,30 NBR8300 OL'"
      ]
     },
     "execution_count": 25,
     "metadata": {},
     "output_type": "execute_result"
    }
   ],
   "source": [
    "sales_data['Descrip'][0]"
   ]
  },
  {
   "cell_type": "code",
   "execution_count": null,
   "id": "863fa360-bbae-4449-ad22-c2f02676ded7",
   "metadata": {},
   "outputs": [],
   "source": []
  },
  {
   "cell_type": "code",
   "execution_count": 26,
   "id": "eea5a641",
   "metadata": {},
   "outputs": [],
   "source": [
    "# Removing the Leading space in front of the Decription string.\n",
    "products['Descrip'] =products['Descrip'].str.lstrip()"
   ]
  },
  {
   "cell_type": "code",
   "execution_count": 46,
   "id": "ffcf5372-9ab7-4594-aa29-6e0965e89a85",
   "metadata": {},
   "outputs": [
    {
     "name": "stdout",
     "output_type": "stream",
     "text": [
      "<class 'pandas.core.frame.DataFrame'>\n",
      "RangeIndex: 19831 entries, 0 to 19830\n",
      "Data columns (total 13 columns):\n",
      " #   Column       Non-Null Count  Dtype \n",
      "---  ------       --------------  ----- \n",
      " 0   Date         19831 non-null  object\n",
      " 1   Inv          19831 non-null  int64 \n",
      " 2   Est          19831 non-null  int64 \n",
      " 3   Order        19831 non-null  object\n",
      " 4   Client       19831 non-null  object\n",
      " 5   Descrip      19831 non-null  object\n",
      " 6   Esp          19831 non-null  object\n",
      " 7   Larg         19831 non-null  object\n",
      " 8   Comp         19831 non-null  object\n",
      " 9   Piece_price  19831 non-null  object\n",
      " 10  KG_price     19831 non-null  object\n",
      " 11  Quantity     19831 non-null  object\n",
      " 12  Total        19831 non-null  object\n",
      "dtypes: int64(2), object(11)\n",
      "memory usage: 2.0+ MB\n"
     ]
    }
   ],
   "source": [
    "sales_data.info()"
   ]
  },
  {
   "cell_type": "code",
   "execution_count": 67,
   "id": "30bbd0fd-c4af-47e1-9ac9-c7901598717a",
   "metadata": {},
   "outputs": [
    {
     "name": "stdout",
     "output_type": "stream",
     "text": [
      "4907     CHAPA FF >= 0,50 <= SEGUNDA QUALI     10.186,02\n",
      "8168                             PONTA DE BOBINA FQ 0,00\n",
      "8370                             PONTA DE BOBINA FQ 0,00\n",
      "9413                             PONTA DE BOBINA FQ 0,00\n",
      "10173                            PONTA DE BOBINA FQ 0,00\n",
      "                              ...                       \n",
      "19800             BOB FQ 4,25 CSN ARQ CIVIL 300-Q03 ACAB\n",
      "19801             BOB FQ 4,75 CSN ARQ CIVIL 300-Q03 ACAB\n",
      "19803             BOB FQ 2,65 CSN ARQ CIVIL 300-Q03 ACAB\n",
      "19804                           BOB FQ 4,25 SAE1010 ACAB\n",
      "19819                TIRA FF BOB 0,35 G2L290 BbOL SMODIH\n",
      "Name: Descrip, Length: 120, dtype: object\n"
     ]
    }
   ],
   "source": [
    "# 120 Descrip rows were not found in products.\n",
    "# We need to add those missing itens into products.\n",
    "# First of all we need to know what are the missing values.\n",
    "unmatched_Descrip = sales_data[~sales_data[\"Descrip\"].isin(products[\"Descrip\"])]\n",
    "\n",
    "# Display the result\n",
    "print(unmatched_Descrip[\"Descrip\"])"
   ]
  },
  {
   "cell_type": "code",
   "execution_count": 71,
   "id": "834c1378",
   "metadata": {},
   "outputs": [],
   "source": [
    "unmatched_Descrip.to_csv('data/csv_files/unmatched_Descrip.csv', index = False)"
   ]
  },
  {
   "cell_type": "code",
   "execution_count": 54,
   "id": "dfedd982",
   "metadata": {},
   "outputs": [
    {
     "data": {
      "text/html": [
       "<div>\n",
       "<style scoped>\n",
       "    .dataframe tbody tr th:only-of-type {\n",
       "        vertical-align: middle;\n",
       "    }\n",
       "\n",
       "    .dataframe tbody tr th {\n",
       "        vertical-align: top;\n",
       "    }\n",
       "\n",
       "    .dataframe thead th {\n",
       "        text-align: right;\n",
       "    }\n",
       "</style>\n",
       "<table border=\"1\" class=\"dataframe\">\n",
       "  <thead>\n",
       "    <tr style=\"text-align: right;\">\n",
       "      <th></th>\n",
       "      <th>Description</th>\n",
       "      <th>Type of Product</th>\n",
       "      <th>Commission</th>\n",
       "      <th>Product Family</th>\n",
       "    </tr>\n",
       "  </thead>\n",
       "  <tbody>\n",
       "    <tr>\n",
       "      <th>0</th>\n",
       "      <td>BLANK CL FF OL 0,75 NBR 6658</td>\n",
       "      <td>BKFF</td>\n",
       "      <td>2%</td>\n",
       "      <td>BLANK</td>\n",
       "    </tr>\n",
       "    <tr>\n",
       "      <th>1</th>\n",
       "      <td>BLANK CL FF OL 0,90 NBR 6658</td>\n",
       "      <td>BKFF</td>\n",
       "      <td>2%</td>\n",
       "      <td>BLANK</td>\n",
       "    </tr>\n",
       "    <tr>\n",
       "      <th>2</th>\n",
       "      <td>BLANK CL FF OL 1,20 NBR 6658</td>\n",
       "      <td>BKFF</td>\n",
       "      <td>2%</td>\n",
       "      <td>BLANK</td>\n",
       "    </tr>\n",
       "    <tr>\n",
       "      <th>3</th>\n",
       "      <td>BLANK CL FF OL 1,50 NBR 6658</td>\n",
       "      <td>BKFF</td>\n",
       "      <td>2%</td>\n",
       "      <td>BLANK</td>\n",
       "    </tr>\n",
       "    <tr>\n",
       "      <th>4</th>\n",
       "      <td>BLANK CL FF OL 1,90 NBR 6658</td>\n",
       "      <td>BKFF</td>\n",
       "      <td>2%</td>\n",
       "      <td>BLANK</td>\n",
       "    </tr>\n",
       "    <tr>\n",
       "      <th>...</th>\n",
       "      <td>...</td>\n",
       "      <td>...</td>\n",
       "      <td>...</td>\n",
       "      <td>...</td>\n",
       "    </tr>\n",
       "    <tr>\n",
       "      <th>2785</th>\n",
       "      <td>TR REL 5,50 NBR5007 G2L40 BbOL</td>\n",
       "      <td>TIRA REL</td>\n",
       "      <td>2%</td>\n",
       "      <td>RELAMINADO</td>\n",
       "    </tr>\n",
       "    <tr>\n",
       "      <th>2786</th>\n",
       "      <td>TR REL 5,50 NBR5007 G3L40 BbOL</td>\n",
       "      <td>TIRA REL</td>\n",
       "      <td>2%</td>\n",
       "      <td>RELAMINADO</td>\n",
       "    </tr>\n",
       "    <tr>\n",
       "      <th>2787</th>\n",
       "      <td>TR REL 5,60 NBR5007 G2L40 BbOL</td>\n",
       "      <td>TIRA REL</td>\n",
       "      <td>2%</td>\n",
       "      <td>RELAMINADO</td>\n",
       "    </tr>\n",
       "    <tr>\n",
       "      <th>2788</th>\n",
       "      <td>TR REL 5,60 NBR5007 G2L40 BbOL</td>\n",
       "      <td>TIRA REL</td>\n",
       "      <td>2%</td>\n",
       "      <td>RELAMINADO</td>\n",
       "    </tr>\n",
       "    <tr>\n",
       "      <th>2789</th>\n",
       "      <td>TUBO FQ QUADRADO 1,50 SAE1006</td>\n",
       "      <td>TUBO QUAD</td>\n",
       "      <td>2%</td>\n",
       "      <td>TUBO</td>\n",
       "    </tr>\n",
       "  </tbody>\n",
       "</table>\n",
       "<p>2790 rows × 4 columns</p>\n",
       "</div>"
      ],
      "text/plain": [
       "                         Description Type of Product Commission Product Family\n",
       "0       BLANK CL FF OL 0,75 NBR 6658            BKFF         2%          BLANK\n",
       "1       BLANK CL FF OL 0,90 NBR 6658            BKFF         2%          BLANK\n",
       "2       BLANK CL FF OL 1,20 NBR 6658            BKFF         2%          BLANK\n",
       "3       BLANK CL FF OL 1,50 NBR 6658            BKFF         2%          BLANK\n",
       "4       BLANK CL FF OL 1,90 NBR 6658            BKFF         2%          BLANK\n",
       "...                              ...             ...        ...            ...\n",
       "2785  TR REL 5,50 NBR5007 G2L40 BbOL        TIRA REL         2%     RELAMINADO\n",
       "2786  TR REL 5,50 NBR5007 G3L40 BbOL        TIRA REL         2%     RELAMINADO\n",
       "2787  TR REL 5,60 NBR5007 G2L40 BbOL        TIRA REL         2%     RELAMINADO\n",
       "2788  TR REL 5,60 NBR5007 G2L40 BbOL        TIRA REL         2%     RELAMINADO\n",
       "2789   TUBO FQ QUADRADO 1,50 SAE1006       TUBO QUAD         2%           TUBO\n",
       "\n",
       "[2790 rows x 4 columns]"
      ]
     },
     "execution_count": 54,
     "metadata": {},
     "output_type": "execute_result"
    }
   ],
   "source": [
    "# Append the missing items to df2['Column2']\n",
    "products['Description'] = products['Description'].append(missing_items, ignore_index=True)\n",
    "\n",
    "# Display the updated df2\n",
    "products"
   ]
  },
  {
   "cell_type": "code",
   "execution_count": 59,
   "id": "17962e32",
   "metadata": {},
   "outputs": [],
   "source": [
    "# Merge sales_data and products into a single dataframe.\n",
    "sales_df = pd.merge(sales_data, products)"
   ]
  },
  {
   "cell_type": "code",
   "execution_count": 14,
   "id": "057a9d8d",
   "metadata": {},
   "outputs": [],
   "source": [
    "products.to_csv('data/csv_files/products.csv',index = False)"
   ]
  }
 ],
 "metadata": {
  "kernelspec": {
   "display_name": "Python 3 (ipykernel)",
   "language": "python",
   "name": "python3"
  },
  "language_info": {
   "codemirror_mode": {
    "name": "ipython",
    "version": 3
   },
   "file_extension": ".py",
   "mimetype": "text/x-python",
   "name": "python",
   "nbconvert_exporter": "python",
   "pygments_lexer": "ipython3",
   "version": "3.8.19"
  }
 },
 "nbformat": 4,
 "nbformat_minor": 5
}
